{
 "cells": [
  {
   "cell_type": "code",
   "execution_count": 2,
   "id": "5d4f20fd",
   "metadata": {},
   "outputs": [],
   "source": [
    "from agents import Agent, WebSearchTool, trace, gen_trace_id, Runner\n",
    "from agents.model_settings import ModelSettings\n",
    "from dataclasses import dataclass, field\n",
    "from typing import List, Optional\n",
    "from dotenv import load_dotenv\n",
    "from pydantic import BaseModel, Field\n",
    "from IPython.display import display, Markdown"
   ]
  },
  {
   "cell_type": "code",
   "execution_count": 3,
   "id": "c37f1f9f",
   "metadata": {},
   "outputs": [
    {
     "data": {
      "text/plain": [
       "True"
      ]
     },
     "execution_count": 3,
     "metadata": {},
     "output_type": "execute_result"
    }
   ],
   "source": [
    "load_dotenv(override=True)"
   ]
  },
  {
   "cell_type": "code",
   "execution_count": 4,
   "id": "4f08c22f",
   "metadata": {},
   "outputs": [],
   "source": [
    "instructions=\"\"\"\n",
    "    You are an expert in startup competitor research.\n",
    "    Given a startup idea and target market, find upto or less than 5 competitors.\n",
    "    Use the WebSearchTool to gather data.\n",
    "    \"\"\"\n",
    "\n",
    "@dataclass\n",
    "class Competitor:\n",
    "    name: str = Field(description=\"The name of the competitor\")\n",
    "    description: str = Field(description=\"Short 2-3 sentence description of the product\")\n",
    "    website: Optional[str] = Field(website=\"Website of the product if present\")\n",
    "    strengths: List[str] = Field(description=\"List of strenghts which standout in the product\")\n",
    "    weaknesses: List[str] = Field(description=\"List of weaknesses in the product\")\n",
    "    pricing: Optional[str] = Field(description=\"Pricing of the product if present\")\n",
    "    funding: Optional[str] = Field(description=\"Funding info of the competitor if present\")\n",
    "    market_position: Optional[str] = Field(description=\"Market share / position\")\n",
    "\n",
    "@dataclass\n",
    "class CompetitorAnalysisResult:\n",
    "    industry: str\n",
    "    competitors: List[Competitor] = Field(description=\"List of competitors for the given business idea\")\n",
    "    insights: Optional[str] = None\n",
    "\n",
    "\n",
    "competitor_agent = Agent(\n",
    "    name=\"competitor_analysis_agent\",\n",
    "    tools=[WebSearchTool(search_context_size=\"low\")],\n",
    "    instructions=instructions,\n",
    "    model=\"gpt-4o-mini\",\n",
    "    model_settings=ModelSettings(tool_choice=\"required\"),\n",
    "    output_type=CompetitorAnalysisResult\n",
    ")"
   ]
  },
  {
   "cell_type": "code",
   "execution_count": 5,
   "id": "0baa29b3",
   "metadata": {},
   "outputs": [
    {
     "name": "stdout",
     "output_type": "stream",
     "text": [
      "CompetitorAnalysisResult(industry='AI Journaling Apps', competitors=[Competitor(name='Mentalio AI Mood Journal', description='An AI-powered mood journal designed to assist individuals with depression, stress, and anxiety through clinically proven methods, including guided affirmations, diary entries, breathing exercises, and mental health assessments.', website='https://www.producthunt.com/products/ai-diary/alternatives', strengths=['Comprehensive mental health support features', 'Clinically proven techniques', 'User-friendly interface'], weaknesses=['Limited platform availability', 'May require internet access for full functionality'], pricing='Freemium model with in-app purchases', funding='Not publicly disclosed', market_position='Emerging player in the mental health app market'), Competitor(name='Introspect Journal', description='An AI-driven journaling app that prompts users with deep questions to guide their thoughts, aiming to enhance self-reflection and clarity.', website='https://www.producthunt.com/products/ai-diary/alternatives', strengths=['Deep, thought-provoking prompts', 'Focus on self-reflection', 'Intuitive design'], weaknesses=['Limited features compared to competitors', 'May not appeal to all journaling preferences'], pricing='Freemium model', funding='Not publicly disclosed', market_position='Niche product in the journaling app market'), Competitor(name='DreamEscape: AI Dream Journal', description='An AI-powered dream journal that combines advanced technology with personalized insights to help users understand and analyze their dreams.', website='https://www.producthunt.com/products/ai-diary/alternatives', strengths=['Specialized focus on dream analysis', 'Personalized insights', 'User-friendly interface'], weaknesses=['Narrow focus may limit appeal', 'Requires active engagement for accurate insights'], pricing='Freemium model', funding='Not publicly disclosed', market_position='Specialized app in the dream analysis niche'), Competitor(name='Daylio', description='A diary and mood tracking app that allows users to record their mood and activities, providing statistical insights and trends over time.', website='https://daylio.net/', strengths=['Simple and intuitive interface', 'Comprehensive mood tracking', 'Statistical insights and trends'], weaknesses=['Limited AI integration', 'Basic journaling features'], pricing='Freemium model with in-app purchases', funding='Not publicly disclosed', market_position='Established app with a large user base'), Competitor(name=\"Apple's Journal\", description='A personal journaling app developed by Apple Inc., offering features like writing suggestions, reflection prompts, and integration with other Apple services.', website='https://en.wikipedia.org/wiki/Journal_%28Apple%29', strengths=['Seamless integration with Apple ecosystem', 'Advanced AI-driven writing suggestions', 'User-friendly design'], weaknesses=['Limited to Apple devices', 'May lack some features of specialized journaling apps'], pricing='Free with iOS 17.2 and later', funding='Developed by Apple Inc.', market_position='Strong due to brand recognition and existing user base')], insights=\"The AI journaling app market is diverse, with competitors offering various features ranging from mood tracking and self-reflection prompts to dream analysis and mental health support. Established apps like Daylio and Apple's Journal leverage their existing user bases and device ecosystems, while newer entrants focus on specialized features to cater to niche audiences. The market is evolving, with opportunities for innovation in AI-driven journaling experiences.\")\n"
     ]
    }
   ],
   "source": [
    "message = \"AI Journalling app\"\n",
    "\n",
    "with trace(\"competition_research\"):\n",
    "    competitor_data = await Runner.run(competitor_agent, message)\n",
    "    print(competitor_data.final_output)"
   ]
  },
  {
   "cell_type": "code",
   "execution_count": 7,
   "id": "43f15eeb",
   "metadata": {},
   "outputs": [],
   "source": [
    "instructions=\"\"\"\n",
    "You are MarketResearchAgent, an AI agent specialized in researching and validating a business idea’s market potential.\n",
    "Your role is to gather accurate, up-to-date, and credible market data from reputable sources using the WebSearchTool, and compile it into a structured report.\n",
    "Your findings should help business stakeholders understand industry conditions, opportunities, risks, and target customer segments.\n",
    "\"\"\"\n",
    "\n",
    "class MarketResearchOutput(BaseModel):\n",
    "    market_size: str = Field(\n",
    "        description=\"The estimated current market size, expressed in monetary terms or user base.\"\n",
    "    )\n",
    "    growth_rate: str = Field(\n",
    "        description=\"The expected annual growth rate of the market, ideally with a percentage.\"\n",
    "    )\n",
    "    key_trends: List[str] = Field(\n",
    "        description=\"A list of notable trends currently shaping the market.\"\n",
    "    )\n",
    "    major_players: List[str] = Field(\n",
    "        description=\"A list of leading companies or entities in this market.\"\n",
    "    )\n",
    "    barriers_to_entry: List[str] = Field(\n",
    "        description=\"A list of significant challenges or obstacles new entrants may face.\"\n",
    "    )\n",
    "    opportunities: List[str] = Field(\n",
    "        description=\"A list of promising opportunities for growth or differentiation in this market.\"\n",
    "    )\n",
    "    threats: List[str] = Field(\n",
    "        description=\"A list of potential risks or external factors that could negatively affect the market.\"\n",
    "    )\n",
    "# Agent 3: Market Research\n",
    "market_agent = Agent(\n",
    "    name=\"market_research_agent\",\n",
    "    tools=[WebSearchTool(search_context_size=\"low\")],\n",
    "    instructions=instructions,\n",
    "    model=\"gpt-4o-mini\",\n",
    "    model_settings=ModelSettings(tool_choice=\"required\"),\n",
    "    output_type=MarketResearchOutput\n",
    ")"
   ]
  },
  {
   "cell_type": "code",
   "execution_count": 8,
   "id": "386d2692",
   "metadata": {},
   "outputs": [
    {
     "name": "stdout",
     "output_type": "stream",
     "text": [
      "market_size='The global AI market was valued at USD 279.22 billion in 2024 and is projected to reach USD 390.91 billion in 2025, with a compound annual growth rate (CAGR) of 35.9% through 2030, reaching USD 1.81 trillion. The AI journaling niche benefits from this growth, driven by rising demand for mental health and productivity tools.' growth_rate='35.9% CAGR through 2030' key_trends=['Integration of AI with journaling apps for personalized mental health insights.', 'Use of large language models (LLMs) like ChatGPT for diary analysis and feedback.', 'Emergence of AI plugins and APIs enabling easy integration into mobile and web apps.', 'Growing focus on data privacy and compliance in personal AI applications.', 'Increasing user interest in AI-assisted productivity and emotional well-being.'] major_players=['Day One (Automattic)', 'Journey (Two App Studio)', 'Penzu', 'Diarium', 'Momento'] barriers_to_entry=['Integration and data privacy challenges.', 'Competition from established players with strong user bases.', 'High development costs for AI-driven features.'] opportunities=['Developing AI-driven features for personalized mental health insights.', 'Integrating voice-to-text functionality for hands-free journaling.', 'Offering subscription-based models with tiered pricing to capture diverse user segments.'] threats=['Intense competition from established and emerging players.', 'Rapid technological advancements leading to evolving user preferences.', 'Data privacy concerns and regulatory challenges.']\n"
     ]
    }
   ],
   "source": [
    "message = \"AI Journalling app\"\n",
    "\n",
    "with trace(\"market_research\"):\n",
    "    market_data = await Runner.run(market_agent, message)\n",
    "    print(market_data.final_output)"
   ]
  },
  {
   "cell_type": "code",
   "execution_count": 22,
   "id": "086c78a1",
   "metadata": {},
   "outputs": [],
   "source": [
    "instructions=\"\"\"\n",
    "You are the Financial Estimator Agent.\n",
    "Your job is to take competitor analysis data and market research data,\n",
    "and estimate the Total Addressable Market (TAM), Serviceable Available Market (SAM),\n",
    "Serviceable Obtainable Market (SOM), and potential annual revenues.\n",
    "\n",
    "Steps:\n",
    "1. Parse and understand the provided competitor and market datasets.\n",
    "2. Use reasonable market assumptions (growth rates, adoption %, pricing models).\n",
    "3. Clearly explain the calculations and assumptions.\n",
    "4. Return a structured output in the expected schema.\n",
    "\"\"\"\n",
    "\n",
    "class FinancialEstimationResult(BaseModel):\n",
    "    TAM: float = Field(\n",
    "        ...,\n",
    "        description=\"Total Addressable Market in USD. Represents the total revenue opportunity available if the product captured 100% of the market.\"\n",
    "    )\n",
    "    SAM: float = Field(\n",
    "        ...,\n",
    "        description=\"Serviceable Available Market in USD. Represents the portion of the TAM that can be targeted based on the business's product scope and geographical reach.\"\n",
    "    )\n",
    "    SOM: float = Field(\n",
    "        ...,\n",
    "        description=\"Serviceable Obtainable Market in USD. Represents the realistic market share the business can capture given competition, pricing, and operational constraints.\"\n",
    "    )\n",
    "    estimated_annual_revenue: float = Field(\n",
    "        ...,\n",
    "        description=\"Projected yearly revenue in USD based on current market share assumptions and pricing models.\"\n",
    "    )\n",
    "    assumptions: str = Field(\n",
    "        ...,\n",
    "        description=\"Key assumptions used in the estimation, including growth rates, pricing strategy, adoption rates, and market conditions.\"\n",
    "    )\n",
    "\n",
    "financial_estimator_agent = Agent(\n",
    "    name=\"financial_estimator_agent\",\n",
    "    tools=[],  # No external search tools, works with provided data\n",
    "    instructions=instructions,\n",
    "    model=\"gpt-4o-mini\",\n",
    "    model_settings=ModelSettings(tool_choice=\"none\"),\n",
    "    output_type=FinancialEstimationResult\n",
    ")"
   ]
  },
  {
   "cell_type": "code",
   "execution_count": null,
   "id": "43e20255",
   "metadata": {},
   "outputs": [
    {
     "name": "stdout",
     "output_type": "stream",
     "text": [
      "TAM=1810000000000.0 SAM=390910000000.0 SOM=39091000000.0 estimated_annual_revenue=3909100000.0 assumptions='Assuming a conservative market penetration of 10% of the SAM based on the competitive landscape and pricing strategies. This includes projected growth from increased consumer interest in AI-assisted mental health tools.'\n"
     ]
    }
   ],
   "source": [
    "message = \"AI Journalling app\"\n",
    "\n",
    "fin_inputs = {\n",
    "    \"competitor_data\": competitor_data,\n",
    "    \"market_data\": market_data\n",
    "}\n",
    "\n",
    "with trace(\"financial_estimator\"):\n",
    "    financial_data = await Runner.run(\n",
    "        financial_estimator_agent,\n",
    "        str(fin_inputs)\n",
    "        )\n",
    "    print(financial_data.final_output)"
   ]
  },
  {
   "cell_type": "code",
   "execution_count": 26,
   "id": "0c059e15",
   "metadata": {},
   "outputs": [],
   "source": [
    "INSTRUCTIONS = (\n",
    "    \"You are a skilled business analyst and professional writer. \"\n",
    "    \"Given the outputs from competitor analysis, market analysis, and financial estimation agents, \"\n",
    "    \"write a cohesive business report. \"\n",
    "    \"The report should have a clear structure, professional tone, and flow logically. \"\n",
    "    \"Avoid redundancy. \"\n",
    "    \"Include headings, subheadings, and summary insights.\"\n",
    "    \"Format the output as a markdown report with collapsible <details> sections for competitor, market data and financial data. Convert all tabular or bullet data into proper markdown tables or lists before embedding them.\"\n",
    ")\n",
    "\n",
    "\n",
    "class ReportData(BaseModel):\n",
    "    short_summary: str = Field(description=\"A short 2-3 sentence summary of the findings.\")\n",
    "\n",
    "    markdown_report: str = Field(description=\"The final report\")\n",
    "\n",
    "    follow_up_questions: list[str] = Field(description=\"Suggested topics to research further\")\n",
    "\n",
    "\n",
    "writer_agent = Agent(\n",
    "    name=\"WriterAgent\",\n",
    "    instructions=INSTRUCTIONS,\n",
    "    model=\"gpt-4o-mini\",\n",
    "    output_type=ReportData,\n",
    ")"
   ]
  },
  {
   "cell_type": "code",
   "execution_count": 27,
   "id": "ad6e7362",
   "metadata": {},
   "outputs": [
    {
     "name": "stdout",
     "output_type": "stream",
     "text": [
      "short_summary='The analysis of the AI journaling app market reveals a dynamic landscape with various competitors offering specialized features. The market is projected to grow significantly, with a total addressable market (TAM) estimated at $1.81 trillion by 2030, indicating substantial opportunities for innovation and market penetration.' markdown_report='# AI Journaling App Market Report\\n\\n## Table of Contents\\n- [Background](#background)\\n- [Competitor Analysis](#competitor-analysis)\\n- [Market Analysis](#market-analysis)\\n- [Financial Estimation](#financial-estimation)\\n- [Conclusion](#conclusion)\\n- [Follow-Up Questions](#follow-up-questions)\\n\\n---\\n\\n## Background\\nThe AI journaling app sector has gained prominence due to growing interest in mental health tools and productivity solutions. This report evaluates the current market landscape, competitors, growth potential, and financial opportunities.\\n\\n---\\n\\n## Competitor Analysis\\n<details>\\n<summary>Click to Expand Competitor Analysis</summary>\\n\\nThe following are notable competitors in the AI journaling app market:\\n\\n| Competitor Name                       | Description                                                                                                         | Website                                                          | Strengths                                                  | Weaknesses                                            | Pricing                                   | Funding                     | Market Position                       |\\n|---------------------------------------|---------------------------------------------------------------------------------------------------------------------|------------------------------------------------------------------|------------------------------------------------------------|------------------------------------------------|------------------------------------------|----------------------------|------------------------------------|\\n| Mentalio AI Mood Journal              | An AI-powered mood journal for individuals dealing with anxiety and depression.                                     | [Mentalio](https://www.producthunt.com/products/ai-diary/alternatives) | Comprehensive mental health support                      | Limited platform availability                      | Freemium with in-app purchases         | Not disclosed               | Emerging player in the mental health app market |\\n| Introspect Journal                    | An AI-driven journaling app prompting users with deep questions for self-reflection.                                | [Introspect](https://www.producthunt.com/products/ai-diary/alternatives) | Deep, thought-provoking prompts                            | Limited features compared to competitors       | Freemium model                        | Not disclosed               | Niche product in the journaling app market |\\n| DreamEscape: AI Dream Journal         | AI-powered dream journal providing personalized insights for understanding dreams.                                   | [DreamEscape](https://www.producthunt.com/products/ai-diary/alternatives) | Specialized focus on dream analysis                         | Requires active user engagement for insights   | Freemium model                        | Not disclosed               | Specialized app in the dream analysis niche |\\n| Daylio                                | Diary and mood tracking app with statistical insights.                                                             | [Daylio](https://daylio.net/)                                      | Simple and intuitive interface                              | Limited AI integration                        | Freemium with in-app purchases         | Not disclosed               | Established app with a large user base |\\n| Apple’s Journal                       | A journaling app by Apple Inc., featuring writing suggestions and prompts.                                         | [Apple’s Journal](https://en.wikipedia.org/wiki/Journal_%28Apple%29) | Seamless integration with Apple ecosystem                   | Limited only to Apple devices, lacks some features | Free for iOS 17.2+                   | Developed by Apple Inc.   | Strong position due to brand recognition |\\n\\n### Insights\\nThe AI journaling market is characterized by diverse offerings tailored for mood tracking, self-reflection, and dream analysis. While long-standing apps like Daylio and Apple’s Journal hold strong positions, newer entrants focus on specialized features that cater to niche audiences. The opportunities for innovation remain vast as user needs evolve.\\n\\n</details>\\n\\n---\\n\\n## Market Analysis\\n<details>\\n<summary>Click to Expand Market Analysis</summary>\\n\\n### Market Size and Growth\\n- **Total Addressable Market (TAM)**: $1.81 trillion by 2030\\n- **Projected CAGR**: 35.9% from 2025 to 2030 \\n\\n### Key Trends\\n- Integration of AI for personalized mental health insights.\\n- Use of large language models (LLMs) for diary analysis.\\n- Emergence of plugins and APIs for app integration.\\n- Growing emphasis on data privacy in personal applications.\\n- Increasing user interest in AI-facilitated emotional well-being.\\n\\n### Major Players\\n- Day One (Automattic)\\n- Journey (Two App Studio)\\n- Penzu\\n- Diarium\\n- Momento\\n\\n### Barriers to Entry\\n- Integration and data privacy challenges.\\n- Competition from established players.\\n- High development costs for AI features.\\n\\n### Opportunities\\n- Development of AI features for mental health.\\n- Voice-to-text functionality for hands-free journaling.\\n- Subscription models with tiered pricing.\\n\\n### Threats\\n- Intense competition from both established and new players.\\n- Rapid technological advancements impacting user preferences.\\n- Data privacy and regulatory issues.\\n\\n</details>\\n\\n---\\n\\n## Financial Estimation\\n<details>\\n<summary>Click to Expand Financial Estimation</summary>\\n\\n### Key Financial Metrics\\n- **Total Addressable Market (TAM)**: $1.81 trillion\\n- **Serviceable Available Market (SAM)**: $390.91 billion\\n- **Serviceable Obtainable Market (SOM)**: $39.09 billion\\n- **Estimated Annual Revenue**: $3.91 billion\\n\\n### Assumptions\\nThe calculations are based on a conservative market penetration of 10% of the SAM due to favorable market conditions, consumer trends, and existing competition. \\n\\n</details>\\n\\n---\\n\\n## Conclusion\\nThe AI journaling app market offers significant opportunities driven by technological advancements and growing consumer interest in mental health solutions. Companies can leverage existing technologies to innovate and capture market share in this rapidly evolving sector.\\n\\n---\\n\\n## Follow Up Questions\\n- What specific technologies are driving the growth of AI in wellness apps?\\n- How do user preferences vary across different demographics?\\n- What strategies are competitors employing to enhance user engagement?' follow_up_questions=['What specific technologies are driving the growth of AI in wellness apps?', 'How do user preferences vary across different demographics?', 'What strategies are competitors employing to enhance user engagement?']\n"
     ]
    }
   ],
   "source": [
    "message = \"AI Journalling app\"\n",
    "\n",
    "writer_inputs = {\n",
    "    \"competitor_data\": competitor_data,\n",
    "    \"market_data\": market_data,\n",
    "    \"financial_estimation_data\": financial_data\n",
    "}\n",
    "\n",
    "with trace(\"report_writer\"):\n",
    "    report = await Runner.run(\n",
    "        writer_agent,\n",
    "        str(writer_inputs)\n",
    "        )\n",
    "    print(report.final_output)"
   ]
  },
  {
   "cell_type": "code",
   "execution_count": 28,
   "id": "fa301d2a",
   "metadata": {},
   "outputs": [
    {
     "data": {
      "text/markdown": [
       "# AI Journaling App Market Report\n",
       "\n",
       "## Table of Contents\n",
       "- [Background](#background)\n",
       "- [Competitor Analysis](#competitor-analysis)\n",
       "- [Market Analysis](#market-analysis)\n",
       "- [Financial Estimation](#financial-estimation)\n",
       "- [Conclusion](#conclusion)\n",
       "- [Follow-Up Questions](#follow-up-questions)\n",
       "\n",
       "---\n",
       "\n",
       "## Background\n",
       "The AI journaling app sector has gained prominence due to growing interest in mental health tools and productivity solutions. This report evaluates the current market landscape, competitors, growth potential, and financial opportunities.\n",
       "\n",
       "---\n",
       "\n",
       "## Competitor Analysis\n",
       "<details>\n",
       "<summary>Click to Expand Competitor Analysis</summary>\n",
       "\n",
       "The following are notable competitors in the AI journaling app market:\n",
       "\n",
       "| Competitor Name                       | Description                                                                                                         | Website                                                          | Strengths                                                  | Weaknesses                                            | Pricing                                   | Funding                     | Market Position                       |\n",
       "|---------------------------------------|---------------------------------------------------------------------------------------------------------------------|------------------------------------------------------------------|------------------------------------------------------------|------------------------------------------------|------------------------------------------|----------------------------|------------------------------------|\n",
       "| Mentalio AI Mood Journal              | An AI-powered mood journal for individuals dealing with anxiety and depression.                                     | [Mentalio](https://www.producthunt.com/products/ai-diary/alternatives) | Comprehensive mental health support                      | Limited platform availability                      | Freemium with in-app purchases         | Not disclosed               | Emerging player in the mental health app market |\n",
       "| Introspect Journal                    | An AI-driven journaling app prompting users with deep questions for self-reflection.                                | [Introspect](https://www.producthunt.com/products/ai-diary/alternatives) | Deep, thought-provoking prompts                            | Limited features compared to competitors       | Freemium model                        | Not disclosed               | Niche product in the journaling app market |\n",
       "| DreamEscape: AI Dream Journal         | AI-powered dream journal providing personalized insights for understanding dreams.                                   | [DreamEscape](https://www.producthunt.com/products/ai-diary/alternatives) | Specialized focus on dream analysis                         | Requires active user engagement for insights   | Freemium model                        | Not disclosed               | Specialized app in the dream analysis niche |\n",
       "| Daylio                                | Diary and mood tracking app with statistical insights.                                                             | [Daylio](https://daylio.net/)                                      | Simple and intuitive interface                              | Limited AI integration                        | Freemium with in-app purchases         | Not disclosed               | Established app with a large user base |\n",
       "| Apple’s Journal                       | A journaling app by Apple Inc., featuring writing suggestions and prompts.                                         | [Apple’s Journal](https://en.wikipedia.org/wiki/Journal_%28Apple%29) | Seamless integration with Apple ecosystem                   | Limited only to Apple devices, lacks some features | Free for iOS 17.2+                   | Developed by Apple Inc.   | Strong position due to brand recognition |\n",
       "\n",
       "### Insights\n",
       "The AI journaling market is characterized by diverse offerings tailored for mood tracking, self-reflection, and dream analysis. While long-standing apps like Daylio and Apple’s Journal hold strong positions, newer entrants focus on specialized features that cater to niche audiences. The opportunities for innovation remain vast as user needs evolve.\n",
       "\n",
       "</details>\n",
       "\n",
       "---\n",
       "\n",
       "## Market Analysis\n",
       "<details>\n",
       "<summary>Click to Expand Market Analysis</summary>\n",
       "\n",
       "### Market Size and Growth\n",
       "- **Total Addressable Market (TAM)**: $1.81 trillion by 2030\n",
       "- **Projected CAGR**: 35.9% from 2025 to 2030 \n",
       "\n",
       "### Key Trends\n",
       "- Integration of AI for personalized mental health insights.\n",
       "- Use of large language models (LLMs) for diary analysis.\n",
       "- Emergence of plugins and APIs for app integration.\n",
       "- Growing emphasis on data privacy in personal applications.\n",
       "- Increasing user interest in AI-facilitated emotional well-being.\n",
       "\n",
       "### Major Players\n",
       "- Day One (Automattic)\n",
       "- Journey (Two App Studio)\n",
       "- Penzu\n",
       "- Diarium\n",
       "- Momento\n",
       "\n",
       "### Barriers to Entry\n",
       "- Integration and data privacy challenges.\n",
       "- Competition from established players.\n",
       "- High development costs for AI features.\n",
       "\n",
       "### Opportunities\n",
       "- Development of AI features for mental health.\n",
       "- Voice-to-text functionality for hands-free journaling.\n",
       "- Subscription models with tiered pricing.\n",
       "\n",
       "### Threats\n",
       "- Intense competition from both established and new players.\n",
       "- Rapid technological advancements impacting user preferences.\n",
       "- Data privacy and regulatory issues.\n",
       "\n",
       "</details>\n",
       "\n",
       "---\n",
       "\n",
       "## Financial Estimation\n",
       "<details>\n",
       "<summary>Click to Expand Financial Estimation</summary>\n",
       "\n",
       "### Key Financial Metrics\n",
       "- **Total Addressable Market (TAM)**: $1.81 trillion\n",
       "- **Serviceable Available Market (SAM)**: $390.91 billion\n",
       "- **Serviceable Obtainable Market (SOM)**: $39.09 billion\n",
       "- **Estimated Annual Revenue**: $3.91 billion\n",
       "\n",
       "### Assumptions\n",
       "The calculations are based on a conservative market penetration of 10% of the SAM due to favorable market conditions, consumer trends, and existing competition. \n",
       "\n",
       "</details>\n",
       "\n",
       "---\n",
       "\n",
       "## Conclusion\n",
       "The AI journaling app market offers significant opportunities driven by technological advancements and growing consumer interest in mental health solutions. Companies can leverage existing technologies to innovate and capture market share in this rapidly evolving sector.\n",
       "\n",
       "---\n",
       "\n",
       "## Follow Up Questions\n",
       "- What specific technologies are driving the growth of AI in wellness apps?\n",
       "- How do user preferences vary across different demographics?\n",
       "- What strategies are competitors employing to enhance user engagement?"
      ],
      "text/plain": [
       "<IPython.core.display.Markdown object>"
      ]
     },
     "metadata": {},
     "output_type": "display_data"
    }
   ],
   "source": [
    "final: ReportData = report.final_output\n",
    "display(Markdown(final.markdown_report))"
   ]
  },
  {
   "cell_type": "code",
   "execution_count": null,
   "id": "738b80a8",
   "metadata": {},
   "outputs": [],
   "source": []
  }
 ],
 "metadata": {
  "kernelspec": {
   "display_name": "venv",
   "language": "python",
   "name": "python3"
  },
  "language_info": {
   "codemirror_mode": {
    "name": "ipython",
    "version": 3
   },
   "file_extension": ".py",
   "mimetype": "text/x-python",
   "name": "python",
   "nbconvert_exporter": "python",
   "pygments_lexer": "ipython3",
   "version": "3.12.5"
  }
 },
 "nbformat": 4,
 "nbformat_minor": 5
}
