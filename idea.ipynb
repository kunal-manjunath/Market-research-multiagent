{
 "cells": [
  {
   "cell_type": "code",
   "execution_count": 2,
   "id": "5d4f20fd",
   "metadata": {},
   "outputs": [],
   "source": [
    "from agents import Agent, WebSearchTool, trace, gen_trace_id, Runner\n",
    "from agents.model_settings import ModelSettings\n",
    "from dataclasses import dataclass, field\n",
    "from typing import List, Optional\n",
    "from dotenv import load_dotenv\n",
    "from pydantic import BaseModel, Field\n",
    "from IPython.display import display, Markdown"
   ]
  },
  {
   "cell_type": "code",
   "execution_count": 3,
   "id": "c37f1f9f",
   "metadata": {},
   "outputs": [
    {
     "data": {
      "text/plain": [
       "True"
      ]
     },
     "execution_count": 3,
     "metadata": {},
     "output_type": "execute_result"
    }
   ],
   "source": [
    "load_dotenv(override=True)"
   ]
  },
  {
   "cell_type": "code",
   "execution_count": 4,
   "id": "4f08c22f",
   "metadata": {},
   "outputs": [],
   "source": [
    "instructions=\"\"\"\n",
    "    You are an expert in startup competitor research.\n",
    "    Given a startup idea and target market, find upto or less than 5 competitors.\n",
    "    Use the WebSearchTool to gather data.\n",
    "    \"\"\"\n",
    "\n",
    "@dataclass\n",
    "class Competitor:\n",
    "    name: str = Field(description=\"The name of the competitor\")\n",
    "    description: str = Field(description=\"Short 2-3 sentence description of the product\")\n",
    "    website: Optional[str] = Field(website=\"Website of the product if present\")\n",
    "    strengths: List[str] = Field(description=\"List of strenghts which standout in the product\")\n",
    "    weaknesses: List[str] = Field(description=\"List of weaknesses in the product\")\n",
    "    pricing: Optional[str] = Field(description=\"Pricing of the product if present\")\n",
    "    funding: Optional[str] = Field(description=\"Funding info of the competitor if present\")\n",
    "    market_position: Optional[str] = Field(description=\"Market share / position\")\n",
    "\n",
    "@dataclass\n",
    "class CompetitorAnalysisResult:\n",
    "    industry: str\n",
    "    competitors: List[Competitor] = Field(description=\"List of competitors for the given business idea\")\n",
    "    insights: Optional[str] = None\n",
    "\n",
    "\n",
    "competitor_agent = Agent(\n",
    "    name=\"competitor_analysis_agent\",\n",
    "    tools=[WebSearchTool(search_context_size=\"low\")],\n",
    "    instructions=instructions,\n",
    "    model=\"gpt-4o-mini\",\n",
    "    model_settings=ModelSettings(tool_choice=\"required\"),\n",
    "    output_type=CompetitorAnalysisResult\n",
    ")"
   ]
  },
  {
   "cell_type": "code",
   "execution_count": null,
   "id": "0baa29b3",
   "metadata": {},
   "outputs": [],
   "source": [
    "message = \"AI Journalling app\"\n",
    "\n",
    "with trace(\"competition_research\"):\n",
    "    competitor_data = await Runner.run(competitor_agent, message)\n",
    "    print(competitor_data.final_output)"
   ]
  },
  {
   "cell_type": "code",
   "execution_count": 7,
   "id": "43f15eeb",
   "metadata": {},
   "outputs": [],
   "source": [
    "instructions=\"\"\"\n",
    "You are MarketResearchAgent, an AI agent specialized in researching and validating a business idea’s market potential.\n",
    "Your role is to gather accurate, up-to-date, and credible market data from reputable sources using the WebSearchTool, and compile it into a structured report.\n",
    "Your findings should help business stakeholders understand industry conditions, opportunities, risks, and target customer segments.\n",
    "\"\"\"\n",
    "\n",
    "class MarketResearchOutput(BaseModel):\n",
    "    market_size: str = Field(\n",
    "        description=\"The estimated current market size, expressed in monetary terms or user base.\"\n",
    "    )\n",
    "    growth_rate: str = Field(\n",
    "        description=\"The expected annual growth rate of the market, ideally with a percentage.\"\n",
    "    )\n",
    "    key_trends: List[str] = Field(\n",
    "        description=\"A list of notable trends currently shaping the market.\"\n",
    "    )\n",
    "    major_players: List[str] = Field(\n",
    "        description=\"A list of leading companies or entities in this market.\"\n",
    "    )\n",
    "    barriers_to_entry: List[str] = Field(\n",
    "        description=\"A list of significant challenges or obstacles new entrants may face.\"\n",
    "    )\n",
    "    opportunities: List[str] = Field(\n",
    "        description=\"A list of promising opportunities for growth or differentiation in this market.\"\n",
    "    )\n",
    "    threats: List[str] = Field(\n",
    "        description=\"A list of potential risks or external factors that could negatively affect the market.\"\n",
    "    )\n",
    "# Agent 3: Market Research\n",
    "market_agent = Agent(\n",
    "    name=\"market_research_agent\",\n",
    "    tools=[WebSearchTool(search_context_size=\"low\")],\n",
    "    instructions=instructions,\n",
    "    model=\"gpt-4o-mini\",\n",
    "    model_settings=ModelSettings(tool_choice=\"required\"),\n",
    "    output_type=MarketResearchOutput\n",
    ")"
   ]
  },
  {
   "cell_type": "code",
   "execution_count": null,
   "id": "386d2692",
   "metadata": {},
   "outputs": [],
   "source": [
    "message = \"AI Journalling app\"\n",
    "\n",
    "with trace(\"market_research\"):\n",
    "    market_data = await Runner.run(market_agent, message)\n",
    "    print(market_data.final_output)"
   ]
  },
  {
   "cell_type": "code",
   "execution_count": 22,
   "id": "086c78a1",
   "metadata": {},
   "outputs": [],
   "source": [
    "instructions=\"\"\"\n",
    "You are the Financial Estimator Agent.\n",
    "Your job is to take competitor analysis data and market research data,\n",
    "and estimate the Total Addressable Market (TAM), Serviceable Available Market (SAM),\n",
    "Serviceable Obtainable Market (SOM), and potential annual revenues.\n",
    "\n",
    "Steps:\n",
    "1. Parse and understand the provided competitor and market datasets.\n",
    "2. Use reasonable market assumptions (growth rates, adoption %, pricing models).\n",
    "3. Clearly explain the calculations and assumptions.\n",
    "4. Return a structured output in the expected schema.\n",
    "\"\"\"\n",
    "\n",
    "class FinancialEstimationResult(BaseModel):\n",
    "    TAM: float = Field(\n",
    "        ...,\n",
    "        description=\"Total Addressable Market in USD. Represents the total revenue opportunity available if the product captured 100% of the market.\"\n",
    "    )\n",
    "    SAM: float = Field(\n",
    "        ...,\n",
    "        description=\"Serviceable Available Market in USD. Represents the portion of the TAM that can be targeted based on the business's product scope and geographical reach.\"\n",
    "    )\n",
    "    SOM: float = Field(\n",
    "        ...,\n",
    "        description=\"Serviceable Obtainable Market in USD. Represents the realistic market share the business can capture given competition, pricing, and operational constraints.\"\n",
    "    )\n",
    "    estimated_annual_revenue: float = Field(\n",
    "        ...,\n",
    "        description=\"Projected yearly revenue in USD based on current market share assumptions and pricing models.\"\n",
    "    )\n",
    "    assumptions: str = Field(\n",
    "        ...,\n",
    "        description=\"Key assumptions used in the estimation, including growth rates, pricing strategy, adoption rates, and market conditions.\"\n",
    "    )\n",
    "\n",
    "financial_estimator_agent = Agent(\n",
    "    name=\"financial_estimator_agent\",\n",
    "    tools=[],  # No external search tools, works with provided data\n",
    "    instructions=instructions,\n",
    "    model=\"gpt-4o-mini\",\n",
    "    model_settings=ModelSettings(tool_choice=\"none\"),\n",
    "    output_type=FinancialEstimationResult\n",
    ")"
   ]
  },
  {
   "cell_type": "code",
   "execution_count": null,
   "id": "43e20255",
   "metadata": {},
   "outputs": [],
   "source": [
    "message = \"AI Journalling app\"\n",
    "\n",
    "fin_inputs = {\n",
    "    \"competitor_data\": competitor_data,\n",
    "    \"market_data\": market_data\n",
    "}\n",
    "\n",
    "with trace(\"financial_estimator\"):\n",
    "    financial_data = await Runner.run(\n",
    "        financial_estimator_agent,\n",
    "        str(fin_inputs)\n",
    "        )\n",
    "    print(financial_data.final_output)"
   ]
  },
  {
   "cell_type": "code",
   "execution_count": 26,
   "id": "0c059e15",
   "metadata": {},
   "outputs": [],
   "source": [
    "INSTRUCTIONS = (\n",
    "    \"You are a skilled business analyst and professional writer. \"\n",
    "    \"Given the outputs from competitor analysis, market analysis, and financial estimation agents, \"\n",
    "    \"write a cohesive business report. \"\n",
    "    \"The report should have a clear structure, professional tone, and flow logically. \"\n",
    "    \"Avoid redundancy. \"\n",
    "    \"Include headings, subheadings, and summary insights.\"\n",
    "    \"Format the output as a markdown report with collapsible <details> sections for competitor, market data and financial data. Convert all tabular or bullet data into proper markdown tables or lists before embedding them.\"\n",
    ")\n",
    "\n",
    "\n",
    "class ReportData(BaseModel):\n",
    "    short_summary: str = Field(description=\"A short 2-3 sentence summary of the findings.\")\n",
    "\n",
    "    markdown_report: str = Field(description=\"The final report\")\n",
    "\n",
    "    follow_up_questions: list[str] = Field(description=\"Suggested topics to research further\")\n",
    "\n",
    "\n",
    "writer_agent = Agent(\n",
    "    name=\"WriterAgent\",\n",
    "    instructions=INSTRUCTIONS,\n",
    "    model=\"gpt-4o-mini\",\n",
    "    output_type=ReportData,\n",
    ")"
   ]
  },
  {
   "cell_type": "code",
   "execution_count": null,
   "id": "ad6e7362",
   "metadata": {},
   "outputs": [],
   "source": [
    "message = \"AI Journalling app\"\n",
    "\n",
    "writer_inputs = {\n",
    "    \"competitor_data\": competitor_data,\n",
    "    \"market_data\": market_data,\n",
    "    \"financial_estimation_data\": financial_data\n",
    "}\n",
    "\n",
    "with trace(\"report_writer\"):\n",
    "    report = await Runner.run(\n",
    "        writer_agent,\n",
    "        str(writer_inputs)\n",
    "        )\n",
    "    print(report.final_output)"
   ]
  },
  {
   "cell_type": "code",
   "execution_count": null,
   "id": "fa301d2a",
   "metadata": {},
   "outputs": [],
   "source": [
    "final: ReportData = report.final_output\n",
    "display(Markdown(final.markdown_report))"
   ]
  },
  {
   "cell_type": "code",
   "execution_count": null,
   "id": "738b80a8",
   "metadata": {},
   "outputs": [],
   "source": []
  }
 ],
 "metadata": {
  "kernelspec": {
   "display_name": "venv",
   "language": "python",
   "name": "python3"
  },
  "language_info": {
   "codemirror_mode": {
    "name": "ipython",
    "version": 3
   },
   "file_extension": ".py",
   "mimetype": "text/x-python",
   "name": "python",
   "nbconvert_exporter": "python",
   "pygments_lexer": "ipython3",
   "version": "3.12.5"
  }
 },
 "nbformat": 4,
 "nbformat_minor": 5
}
